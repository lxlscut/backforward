{
 "cells": [
  {
   "cell_type": "code",
   "execution_count": 56,
   "metadata": {
    "collapsed": true,
    "pycharm": {
     "is_executing": false
    }
   },
   "outputs": [],
   "source": [
    "import numpy as np\n",
    "import sklearn\n",
    "import matplotlib.pyplot as plt"
   ]
  },
  {
   "cell_type": "code",
   "execution_count": 57,
   "outputs": [
    {
     "name": "stdout",
     "text": [
      "(1400, 2) (600, 2)\n"
     ],
     "output_type": "stream"
    }
   ],
   "source": [
    "from sklearn.datasets import make_moons\n",
    "from sklearn.model_selection import train_test_split\n",
    "x,y = make_moons(n_samples=2000,noise=0.2,random_state=100)\n",
    "x_train,x_test,y_train,y_test = train_test_split(x,y,test_size=0.3,random_state=42)\n",
    "print(x_train.shape,x_test.shape)\n"
   ],
   "metadata": {
    "collapsed": false,
    "pycharm": {
     "name": "#%%\n",
     "is_executing": false
    }
   }
  },
  {
   "cell_type": "code",
   "execution_count": 58,
   "outputs": [
    {
     "data": {
      "text/plain": "<Figure size 432x288 with 1 Axes>",
      "image/png": "[encoded data removed]"
     },
     "metadata": {
      "needs_background": "light"
     },
     "output_type": "display_data"
    }
   ],
   "source": [
    "plt.scatter(x_train[y_train==0,0],x_train[y_train==0,1],color='red')\n",
    "plt.scatter(x_train[y_train==1,0],x_train[y_train==1,1],color='blue')\n",
    "plt.show()"
   ],
   "metadata": {
    "collapsed": false,
    "pycharm": {
     "name": "#%%\n",
     "is_executing": false
    }
   }
  },
  {
   "cell_type": "code",
   "execution_count": 59,
   "outputs": [],
   "source": [
    "class Layer:\n",
    "    def __init__(self,n_input,n_neurons,activation=None,weights=None,bias=None):\n",
    "        self.weights = weights if weights  is not None else \\\n",
    "            np.random.randn(n_input,n_neurons)*np.sqrt(1/n_neurons)\n",
    "        self.bias = bias if bias is not None else np.random.rand(n_neurons)*0.1\n",
    "        self.activation = activation\n",
    "        self.last_activation = None\n",
    "        self.error = 0.0\n",
    "        self.delta = 0.0\n",
    "    '''实现前向传播函数,经激活函数激活后输出'''\n",
    "    def activate(self,x):\n",
    "        r = np.dot(x,self.weights)+self.bias\n",
    "        self.last_activation = self._apply_activation(r)\n",
    "        return self.last_activation\n",
    "    '''计算激活函数的输出'''\n",
    "    def _apply_activation(self,r):\n",
    "        if self.activation is None:\n",
    "            return r\n",
    "        elif self.activation == 'relu':\n",
    "            return np.maximum(r,0)\n",
    "        elif self.activation == 'tanh':\n",
    "            return np.tanh(r)\n",
    "        elif self.activation == 'sigmoid':\n",
    "            return 1/(1+np.exp(-r))\n",
    "        return r\n",
    "    '''计算激活函数的导数的值'''\n",
    "    def apply_activation_derivative(self,r):\n",
    "        if self.activation is None:\n",
    "            return np.ones_like(r)\n",
    "        elif self.activation == 'relu':\n",
    "            grad = np.array(r,copy=True)\n",
    "            grad[r>0] = 1\n",
    "            grad[r<0] = 0\n",
    "            return grad\n",
    "        elif self.activation == 'tanh':\n",
    "            return 1-r**2\n",
    "        elif self.activation == 'sigmoid':\n",
    "            return r*(1-r)      \n",
    "        return r"
   ],
   "metadata": {
    "collapsed": false,
    "pycharm": {
     "name": "#%%\n",
     "is_executing": false
    }
   }
  },
  {
   "cell_type": "code",
   "execution_count": 60,
   "outputs": [],
   "source": [
    "class NeuralNetwork:\n",
    "    def __init__(self):\n",
    "        self._layers = []\n",
    "    \n",
    "    def add_layer(self,layer):\n",
    "        self._layers.append(layer)\n",
    "    \n",
    "    def feed_forward(self,x):\n",
    "        for layer in self._layers:\n",
    "            x = layer.activate(x)\n",
    "        return x\n",
    "    def backpropagation(self,x,y,learning_rate):\n",
    "        output = self.feed_forward(x)\n",
    "        for i in reversed(range(len(self._layers))):\n",
    "            layer = self._layers[i]\n",
    "            '''最后一层,delta即为每层的梯度'''\n",
    "            if layer == self._layers[-1]:\n",
    "                layer.error = y-output\n",
    "                layer.delta = layer.error * layer.apply_activation_derivative(output)\n",
    "            else:\n",
    "                next_layer = self._layers[i+1]\n",
    "                layer.error = np.dot(next_layer.weights,next_layer.delta)\n",
    "                layer.delta = layer.error*layer.apply_activation_derivative(layer.last_activation)\n",
    "            for i in range(len(self._layers)):\n",
    "                layer = self._layers[i]\n",
    "                o_i = np.atleast_2d(x if i==0 else self._layers[i-1].last_activation)\n",
    "                # 更新权重 为什么要乘以上一层的输出，因为乘了上一层的权重才是正正的梯度\n",
    "                layer.weights += layer.delta*o_i.T*learning_rate\n",
    "    def train(self,x_train,x_test,y_train,y_test,learning_rate,max_epochs):\n",
    "        y_onehot = np.zeros((y_train.shape[0],2))\n",
    "        y_onehot[np.arange(y_train.shape[0]),y_train] = 1\n",
    "        print(\"y_onehot_shape:...\"+str(y_onehot.shape))\n",
    "        print(\"y_train_shape:...\"+str(y_train.shape))\n",
    "        mses = []\n",
    "        for i in range(max_epochs):\n",
    "            for j in range(len(x_train)):\n",
    "                self.backpropagation(x_train[j],y_onehot[j],learning_rate)\n",
    "            if i%10 ==0:\n",
    "                mse = np.mean(np.square(y_onehot-self.feed_forward(x_train)))\n",
    "                mses.append(mse)\n",
    "                print('Epoch: #%s, MSE:%f'%(i,float(mse)))\n",
    "                i+=1\n",
    "                # print('Accuracy: %.2f%%'%(self.accuracy(self.predict(x_test),y_test.flatten))*1000)\n",
    "        return mses"
   ],
   "metadata": {
    "collapsed": false,
    "pycharm": {
     "name": "#%%\n",
     "is_executing": false
    }
   }
  },
  {
   "cell_type": "code",
   "execution_count": 61,
   "outputs": [],
   "source": [
    "nn = NeuralNetwork()\n",
    "nn.add_layer(Layer(2,25,'sigmoid'))\n",
    "nn.add_layer(Layer(25,50,'sigmoid'))\n",
    "nn.add_layer(Layer(50,25,'sigmoid'))\n",
    "nn.add_layer(Layer(25,2,'sigmoid'))"
   ],
   "metadata": {
    "collapsed": false,
    "pycharm": {
     "name": "#%%\n",
     "is_executing": false
    }
   }
  },
  {
   "cell_type": "code",
   "execution_count": 62,
   "outputs": [
    {
     "name": "stdout",
     "text": [
      "y_onehot_shape:...(1400, 2)\ny_train_shape:...(1400,)\n",
      "Epoch: #0, MSE:0.249986\n",
      "Epoch: #10, MSE:0.244058\n",
      "Epoch: #20, MSE:0.234879\n",
      "Epoch: #30, MSE:0.215104\n",
      "Epoch: #40, MSE:0.174278\n",
      "Epoch: #50, MSE:0.133701\n",
      "Epoch: #60, MSE:0.115380\n",
      "Epoch: #70, MSE:0.106497\n",
      "Epoch: #80, MSE:0.101457\n",
      "Epoch: #90, MSE:0.098689\n",
      "Epoch: #100, MSE:0.097273\n",
      "Epoch: #110, MSE:0.096581\n",
      "Epoch: #120, MSE:0.096251\n",
      "Epoch: #130, MSE:0.096099\n",
      "Epoch: #140, MSE:0.096034\n",
      "Epoch: #150, MSE:0.096010\n",
      "Epoch: #160, MSE:0.096005\n",
      "Epoch: #170, MSE:0.096008\n",
      "Epoch: #180, MSE:0.096013\n",
      "Epoch: #190, MSE:0.096018\n"
     ],
     "output_type": "stream"
    },
    {
     "data": {
      "text/plain": "[0.24998567960839535,\n 0.24405844793916173,\n 0.2348792967310937,\n 0.2151036938218836,\n 0.1742782768464651,\n 0.13370065442069537,\n 0.11537971572081797,\n 0.10649740914248884,\n 0.10145681590447928,\n 0.09868850643896246,\n 0.09727253083172814,\n 0.09658060392367138,\n 0.09625122268711014,\n 0.09609933033111234,\n 0.09603379583028529,\n 0.09600970893954602,\n 0.09600470710954698,\n 0.0960076090012296,\n 0.09601288926287016,\n 0.0960179260688065]"
     },
     "metadata": {},
     "output_type": "execute_result",
     "execution_count": 62
    }
   ],
   "source": [
    "nn.train(x_train,x_test,y_train,y_test,learning_rate=0.001,max_epochs=200)\n",
    "\n"
   ],
   "metadata": {
    "collapsed": false,
    "pycharm": {
     "name": "#%%  开始训练\n",
     "is_executing": false
    }
   }
  },
  {
   "cell_type": "code",
   "execution_count": 62,
   "outputs": [],
   "source": [
    "\n"
   ],
   "metadata": {
    "collapsed": false,
    "pycharm": {
     "name": "#%%\n",
     "is_executing": false
    }
   }
  }
 ],
 "metadata": {
  "kernelspec": {
   "display_name": "Python 3",
   "language": "python",
   "name": "python3"
  },
  "language_info": {
   "codemirror_mode": {
    "name": "ipython",
    "version": 2
   },
   "file_extension": ".py",
   "mimetype": "text/x-python",
   "name": "python",
   "nbconvert_exporter": "python",
   "pygments_lexer": "ipython2",
   "version": "2.7.6"
  },
  "pycharm": {
   "stem_cell": {
    "cell_type": "raw",
    "source": [],
    "metadata": {
     "collapsed": false
    }
   }
  }
 },
 "nbformat": 4,
 "nbformat_minor": 0
}